{
 "cells": [
  {
   "cell_type": "code",
   "execution_count": 1,
   "metadata": {
    "colab": {
     "base_uri": "https://localhost:8080/"
    },
    "id": "Y_kQjyhLRx_i",
    "outputId": "6beca2a6-ae49-457c-dda1-c6c9477fb8f4"
   },
   "outputs": [
    {
     "name": "stdout",
     "output_type": "stream",
     "text": [
      "[{'size': 1.7621382518, 'velocity': '46527.0978301312', 'distance': '33403488.692868118', 'hazardous': True}, {'size': 0.744800533, 'velocity': '20959.8207659374', 'distance': '39565961.760205039', 'hazardous': False}, {'size': 1.2474983468, 'velocity': '58249.6896629513', 'distance': '39330824.516289241', 'hazardous': False}, {'size': 0.0517654482, 'velocity': '24703.7439103688', 'distance': '8526777.284930033', 'hazardous': False}, {'size': 0.0682401509, 'velocity': '25881.1975863978', 'distance': '64975962.736835246', 'hazardous': False}, {'size': 0.4508582062, 'velocity': '86987.5810714278', 'distance': '15384366.923158605', 'hazardous': True}, {'size': 0.0342010925, 'velocity': '29406.9410907668', 'distance': '27322012.490044019', 'hazardous': False}, {'size': 0.0313357417, 'velocity': '20200.2112060543', 'distance': '33343158.085945594', 'hazardous': False}, {'size': 0.0411187571, 'velocity': '22559.4578038017', 'distance': '39470300.39992781', 'hazardous': False}, {'size': 0.0196806745, 'velocity': '28826.1083810302', 'distance': '24802973.989504031', 'hazardous': False}, {'size': 0.2489086439, 'velocity': '85244.1657476544', 'distance': '73118609.642279169', 'hazardous': False}, {'size': 0.0459240286, 'velocity': '37403.1021683567', 'distance': '16841972.094007461', 'hazardous': False}, {'size': 0.1096579137, 'velocity': '34851.0724984026', 'distance': '10795283.918425494', 'hazardous': False}, {'size': 0.0248908644, 'velocity': '70622.7738645496', 'distance': '55685829.049663925', 'hazardous': False}, {'size': 0.1032856481, 'velocity': '93084.7113659066', 'distance': '69821079.922989993', 'hazardous': False}, {'size': 0.1845185269, 'velocity': '48244.0586963346', 'distance': '13984589.45222909', 'hazardous': False}, {'size': 0.2630510131, 'velocity': '87147.3808249178', 'distance': '67297840.370185304', 'hazardous': False}, {'size': 0.0368162863, 'velocity': '21724.6641790206', 'distance': '6245509.728726767', 'hazardous': False}, {'size': 0.0529712204, 'velocity': '43096.3124672974', 'distance': '11493547.95370301', 'hazardous': False}, {'size': 0.0252371308, 'velocity': '34989.7629704627', 'distance': '1786696.384631999', 'hazardous': False}, {'size': 0.285785361, 'velocity': '55944.7666063312', 'distance': '45748404.34801252', 'hazardous': False}, {'size': 0.2377059096, 'velocity': '40730.6674495962', 'distance': '18792060.16984068', 'hazardous': False}, {'size': 0.0394493615, 'velocity': '25947.1675296518', 'distance': '27027904.483843997', 'hazardous': False}, {'size': 0.4074177807, 'velocity': '29289.2170531332', 'distance': '54279221.493502329', 'hazardous': True}, {'size': 0.8356799428, 'velocity': '29957.21682138', 'distance': '25962468.947376968', 'hazardous': False}, {'size': 0.0187948982, 'velocity': '13617.0861989297', 'distance': '11468354.984244808', 'hazardous': False}, {'size': 0.1023387195, 'velocity': '70057.2632449975', 'distance': '5225075.535362936', 'hazardous': False}, {'size': 0.933340215, 'velocity': '106113.1199479474', 'distance': '42014479.630349796', 'hazardous': False}, {'size': 0.0863057993, 'velocity': '63246.8210902996', 'distance': '32029066.43028682', 'hazardous': False}, {'size': 0.0549591464, 'velocity': '21752.0017770533', 'distance': '13627638.507437551', 'hazardous': False}, {'size': 0.0636854144, 'velocity': '10435.4352248496', 'distance': '15255399.616697121', 'hazardous': False}, {'size': 0.0424658654, 'velocity': '24481.6456214343', 'distance': '2300587.388084203', 'hazardous': False}, {'size': 0.3451755128, 'velocity': '57482.02791909', 'distance': '57688690.272424073', 'hazardous': False}, {'size': 0.0353704006, 'velocity': '32246.5722108306', 'distance': '13937825.277745386', 'hazardous': False}, {'size': 0.2992540101, 'velocity': '119400.3221514739', 'distance': '74512448.691120951', 'hazardous': True}, {'size': 0.5675968529, 'velocity': '65902.1605926707', 'distance': '41772395.465265447', 'hazardous': False}, {'size': 0.1047224945, 'velocity': '32046.2078220756', 'distance': '70519325.393171842', 'hazardous': False}, {'size': 0.0342010925, 'velocity': '31395.5033311844', 'distance': '52439994.938803855', 'hazardous': False}, {'size': 0.0494356193, 'velocity': '45516.0049503304', 'distance': '39806600.106755199', 'hazardous': False}, {'size': 0.0714562102, 'velocity': '64266.831983133', 'distance': '40350515.941268735', 'hazardous': False}, {'size': 0.0311917671, 'velocity': '29549.0686341536', 'distance': '8837356.181174712', 'hazardous': False}, {'size': 0.1905636132, 'velocity': '51996.5622516625', 'distance': '9759459.305633081', 'hazardous': False}, {'size': 0.0534613571, 'velocity': '68794.7877903362', 'distance': '73895132.422335323', 'hazardous': False}, {'size': 0.1032856481, 'velocity': '75427.2519169788', 'distance': '50288000.766304093', 'hazardous': False}, {'size': 0.0547066321, 'velocity': '39089.1804601579', 'distance': '8860641.89746871', 'hazardous': False}, {'size': 0.0252371308, 'velocity': '22331.5457416485', 'distance': '69782983.419174515', 'hazardous': False}, {'size': 0.3499773825, 'velocity': '19038.6521223925', 'distance': '45226771.146155058', 'hazardous': False}, {'size': 0.0820427065, 'velocity': '13426.1432321919', 'distance': '18948126.367503527', 'hazardous': False}, {'size': 0.4898239078, 'velocity': '60476.9261454007', 'distance': '48746363.584637346', 'hazardous': False}, {'size': 0.0176213825, 'velocity': '7038.0995674044', 'distance': '1982840.150863586', 'hazardous': False}, {'size': 0.0366471308, 'velocity': '49113.1844994445', 'distance': '1663888.949985209', 'hazardous': False}, {'size': 0.0287104486, 'velocity': '74516.5848376973', 'distance': '69681182.278076533', 'hazardous': False}, {'size': 0.0185370226, 'velocity': '54786.5188906392', 'distance': '50989788.02589734', 'hazardous': False}, {'size': 0.0208948847, 'velocity': '55475.8017445346', 'distance': '64867216.33510507', 'hazardous': False}, {'size': 0.0666868155, 'velocity': '40755.2043710563', 'distance': '6837263.072521683', 'hazardous': False}, {'size': 0.0097732718, 'velocity': '19914.6616338124', 'distance': '27608609.381668572', 'hazardous': False}, {'size': 0.0300635304, 'velocity': '36766.0557485744', 'distance': '40644068.086663198', 'hazardous': False}, {'size': 0.3532156834, 'velocity': '51559.777578546', 'distance': '16806632.364780556', 'hazardous': False}, {'size': 0.0353215683, 'velocity': '40594.1391513958', 'distance': '45213306.111152524', 'hazardous': False}, {'size': 0.1432319745, 'velocity': '20743.5653098129', 'distance': '21835771.416720577', 'hazardous': False}, {'size': 0.0409298336, 'velocity': '23178.2187890493', 'distance': '4257509.513493058', 'hazardous': False}, {'size': 0.0399981568, 'velocity': '25681.6311025456', 'distance': '3768530.340221965', 'hazardous': False}, {'size': 0.0552128263, 'velocity': '42121.2266072953', 'distance': '9062157.887769654', 'hazardous': False}, {'size': 0.022286403, 'velocity': '17256.24188089', 'distance': '2988369.59428379', 'hazardous': False}, {'size': 0.0349977383, 'velocity': '72970.3839251452', 'distance': '813642.409780532', 'hazardous': False}, {'size': 0.0385513844, 'velocity': '47303.5652348533', 'distance': '1688067.15221184', 'hazardous': False}, {'size': 0.5675968529, 'velocity': '122351.5626754885', 'distance': '73620334.748551493', 'hazardous': True}, {'size': 0.0594346868, 'velocity': '47512.3233514327', 'distance': '53303925.121378497', 'hazardous': False}, {'size': 0.0562393094, 'velocity': '32215.7805473146', 'distance': '6064355.265154931', 'hazardous': False}, {'size': 0.130028927, 'velocity': '37147.1356407452', 'distance': '2147031.083645068', 'hazardous': False}, {'size': 0.1056914799, 'velocity': '64307.149601994', 'distance': '74055040.098822539', 'hazardous': False}, {'size': 0.0297879063, 'velocity': '30460.146998428', 'distance': '12357600.133340637', 'hazardous': False}, {'size': 0.0159970528, 'velocity': '27780.708636567', 'distance': '56575835.517279971', 'hazardous': False}, {'size': 0.0239905375, 'velocity': '20083.7880467987', 'distance': '2028629.111792547', 'hazardous': False}, {'size': 0.4613600429, 'velocity': '62079.9132855136', 'distance': '27358959.902700453', 'hazardous': False}, {'size': 0.0234444462, 'velocity': '27231.3143831763', 'distance': '3653483.22028249', 'hazardous': False}, {'size': 0.0498930414, 'velocity': '54782.6539053748', 'distance': '40940580.534548369', 'hazardous': False}, {'size': 0.0306224531, 'velocity': '34618.3855440174', 'distance': '59740929.578290648', 'hazardous': False}, {'size': 0.3266178974, 'velocity': '54680.7881026404', 'distance': '64699620.450083879', 'hazardous': False}, {'size': 0.0118587791, 'velocity': '68001.4130578852', 'distance': '70761648.331416498', 'hazardous': False}, {'size': 0.1185877909, 'velocity': '28004.666622869', 'distance': '23867035.246199564', 'hazardous': False}, {'size': 1.071617948, 'velocity': '68200.50940934', 'distance': '57701789.286318078', 'hazardous': False}, {'size': 0.1096579137, 'velocity': '85215.2438947838', 'distance': '63953666.169668211', 'hazardous': False}, {'size': 0.0196806745, 'velocity': '106028.0636845068', 'distance': '74174911.151678034', 'hazardous': False}, {'size': 0.0392681082, 'velocity': '29352.5716516506', 'distance': '25671748.001511403', 'hazardous': False}, {'size': 0.0217791025, 'velocity': '53592.8890456998', 'distance': '67607040.722057933', 'hazardous': False}, {'size': 0.1406176963, 'velocity': '13541.0115639644', 'distance': '18725640.80993086', 'hazardous': False}, {'size': 0.0835679943, 'velocity': '19848.4363951019', 'distance': '7027004.005037909', 'hazardous': False}, {'size': 0.1585039096, 'velocity': '38654.7515183858', 'distance': '30273073.482574047', 'hazardous': False}, {'size': 0.0524855773, 'velocity': '38322.0584944769', 'distance': '8013363.827798443', 'hazardous': False}, {'size': 0.0676145215, 'velocity': '17899.6201794231', 'distance': '12712432.188861283', 'hazardous': False}, {'size': 0.0450858206, 'velocity': '22084.8108210537', 'distance': '10335165.405591393', 'hazardous': False}, {'size': 0.0264265201, 'velocity': '26600.200418612', 'distance': '1979723.772915107', 'hazardous': False}, {'size': 0.0455029946, 'velocity': '34810.1376474545', 'distance': '39869627.095606177', 'hazardous': False}, {'size': 0.0407417781, 'velocity': '31404.2411715681', 'distance': '27770842.437366642', 'hazardous': False}, {'size': 1.1016407159, 'velocity': '58275.2238808028', 'distance': '48019176.835726362', 'hazardous': False}, {'size': 0.9037326626, 'velocity': '108423.8669729268', 'distance': '67219618.246965242', 'hazardous': False}, {'size': 0.3614431336, 'velocity': '41736.2436199386', 'distance': '42039033.75706395', 'hazardous': False}, {'size': 0.3999815682, 'velocity': '52248.2024428481', 'distance': '16677946.242475524', 'hazardous': True}, {'size': 0.250057554, 'velocity': '39266.9537788062', 'distance': '38282890.599191169', 'hazardous': False}, {'size': 0.1132504611, 'velocity': '67880.954876558', 'distance': '44202801.596088239', 'hazardous': False}, {'size': 0.0751692087, 'velocity': '59614.6252325213', 'distance': '70000648.679059403', 'hazardous': False}, {'size': 0.1282448632, 'velocity': '68045.6697890692', 'distance': '15016064.477031679', 'hazardous': False}, {'size': 0.3076379996, 'velocity': '70393.7632178891', 'distance': '13890074.206113292', 'hazardous': False}, {'size': 0.1941064553, 'velocity': '94878.7438497952', 'distance': '26515188.721258513', 'hazardous': False}, {'size': 0.1336718562, 'velocity': '48627.9091689858', 'distance': '33327732.256701183', 'hazardous': False}, {'size': 0.0414992243, 'velocity': '48602.8936741507', 'distance': '53093191.389041337', 'hazardous': False}, {'size': 0.154184238, 'velocity': '36339.7769549194', 'distance': '54475019.015463801', 'hazardous': False}, {'size': 0.0325117225, 'velocity': '49551.4782747594', 'distance': '20369491.888178706', 'hazardous': False}, {'size': 0.0867041687, 'velocity': '34425.3913626959', 'distance': '15412184.168371921', 'hazardous': False}, {'size': 0.4385710684, 'velocity': '68213.5378772861', 'distance': '62837703.503815072', 'hazardous': False}, {'size': 0.1745982871, 'velocity': '46553.0370131045', 'distance': '34557638.668443825', 'hazardous': False}]\n"
     ]
    }
   ],
   "source": [
    "import requests\n",
    "\n",
    "API_KEY = \"vyLy4J7duzWtk0nU5rBKWp87OUHHC3AW72av8i02\"\n",
    "url = f\"https://api.nasa.gov/neo/rest/v1/feed?start_date=2023-01-01&end_date=2023-01-07&api_key={API_KEY}\"\n",
    "\n",
    "response = requests.get(url)\n",
    "data = response.json()\n",
    "\n",
    "# Extract relevant features\n",
    "asteroids = []\n",
    "for date in data[\"near_earth_objects\"]:\n",
    "    for asteroid in data[\"near_earth_objects\"][date]:\n",
    "        asteroids.append({\n",
    "            \"size\": asteroid[\"estimated_diameter\"][\"kilometers\"][\"estimated_diameter_max\"],\n",
    "            \"velocity\": asteroid[\"close_approach_data\"][0][\"relative_velocity\"][\"kilometers_per_hour\"],\n",
    "            \"distance\": asteroid[\"close_approach_data\"][0][\"miss_distance\"][\"kilometers\"],\n",
    "            \"hazardous\": asteroid[\"is_potentially_hazardous_asteroid\"]\n",
    "        })\n",
    "\n",
    "print(asteroids)\n"
   ]
  },
  {
   "cell_type": "code",
   "execution_count": 2,
   "metadata": {
    "colab": {
     "base_uri": "https://localhost:8080/"
    },
    "id": "Vc097DHfWANJ",
    "outputId": "6561d81e-37ea-4d23-9856-faba3305fb30"
   },
   "outputs": [
    {
     "name": "stdout",
     "output_type": "stream",
     "text": [
      "       size      velocity      distance  hazardous\n",
      "0  1.762138  46527.097830  3.340349e+07          1\n",
      "1  0.744801  20959.820766  3.956596e+07          0\n",
      "2  1.247498  58249.689663  3.933082e+07          0\n",
      "3  0.051765  24703.743910  8.526777e+06          0\n",
      "4  0.068240  25881.197586  6.497596e+07          0\n"
     ]
    }
   ],
   "source": [
    "import pandas as pd\n",
    "\n",
    "df = pd.DataFrame(asteroids)\n",
    "\n",
    "# Convert numeric values to float\n",
    "df[\"size\"] = df[\"size\"].astype(float)\n",
    "df[\"velocity\"] = df[\"velocity\"].astype(float)\n",
    "df[\"distance\"] = df[\"distance\"].astype(float)\n",
    "df[\"hazardous\"] = df[\"hazardous\"].astype(int)\n",
    "\n",
    "print(df.head())\n"
   ]
  },
  {
   "cell_type": "code",
   "execution_count": 3,
   "metadata": {
    "id": "solSpFIpSGXs"
   },
   "outputs": [],
   "source": [
    "from sklearn.model_selection import train_test_split\n",
    "\n",
    "X = df[[\"size\", \"velocity\", \"distance\"]]\n",
    "y = df[\"hazardous\"]\n",
    "\n",
    "X_train, X_test, y_train, y_test = train_test_split(X, y, test_size=0.2, random_state=42)\n"
   ]
  },
  {
   "cell_type": "code",
   "execution_count": 4,
   "metadata": {
    "colab": {
     "base_uri": "https://localhost:8080/"
    },
    "id": "NtBfFccfSMii",
    "outputId": "213eb8dd-39ef-41c0-ba31-fa2e3758a795"
   },
   "outputs": [
    {
     "name": "stdout",
     "output_type": "stream",
     "text": [
      "Model Accuracy: 95.65%\n"
     ]
    }
   ],
   "source": [
    "from sklearn.ensemble import RandomForestClassifier\n",
    "from sklearn.metrics import accuracy_score\n",
    "\n",
    "model = RandomForestClassifier(n_estimators=100, random_state=42)\n",
    "model.fit(X_train, y_train)\n",
    "\n",
    "# Predict\n",
    "y_pred = model.predict(X_test)\n",
    "\n",
    "# Evaluate\n",
    "accuracy = accuracy_score(y_test, y_pred)\n",
    "print(f\"Model Accuracy: {accuracy * 100:.2f}%\")\n"
   ]
  },
  {
   "cell_type": "code",
   "execution_count": 5,
   "metadata": {
    "colab": {
     "base_uri": "https://localhost:8080/"
    },
    "id": "vYpuiPy9STxJ",
    "outputId": "a4618228-6b01-4576-e2a8-b6e601897029"
   },
   "outputs": [
    {
     "name": "stdout",
     "output_type": "stream",
     "text": [
      "Not Hazardous\n"
     ]
    },
    {
     "name": "stderr",
     "output_type": "stream",
     "text": [
      "C:\\Users\\Owner\\AppData\\Local\\Programs\\Python\\Python313\\Lib\\site-packages\\sklearn\\utils\\validation.py:2739: UserWarning: X does not have valid feature names, but RandomForestClassifier was fitted with feature names\n",
      "  warnings.warn(\n"
     ]
    }
   ],
   "source": [
    "new_asteroid = [[0.5, 25000, 500000]]  # Example: Size=0.5km, Velocity=25,000 km/h, Distance=500,000 km\n",
    "prediction = model.predict(new_asteroid)\n",
    "print(\"Hazardous\" if prediction[0] == 1 else \"Not Hazardous\")\n"
   ]
  },
  {
   "cell_type": "code",
   "execution_count": 6,
   "metadata": {
    "colab": {
     "base_uri": "https://localhost:8080/"
    },
    "id": "eYtvzZw2SYcK",
    "outputId": "0903f0b2-bd77-48ac-f59a-f95ef2c54c39"
   },
   "outputs": [
    {
     "name": "stdout",
     "output_type": "stream",
     "text": [
      "Model trained and saved as asteroid_model.pkl\n"
     ]
    }
   ],
   "source": [
    "import pickle\n",
    "# Save model\n",
    "with open(\"asteroid_model.pkl\", \"wb\") as f:\n",
    "    pickle.dump(model, f)\n",
    "\n",
    "print(\"Model trained and saved as asteroid_model.pkl\")"
   ]
  }
 ],
 "metadata": {
  "colab": {
   "provenance": []
  },
  "kernelspec": {
   "display_name": "Python 3 (ipykernel)",
   "language": "python",
   "name": "python3"
  },
  "language_info": {
   "codemirror_mode": {
    "name": "ipython",
    "version": 3
   },
   "file_extension": ".py",
   "mimetype": "text/x-python",
   "name": "python",
   "nbconvert_exporter": "python",
   "pygments_lexer": "ipython3",
   "version": "3.13.1"
  }
 },
 "nbformat": 4,
 "nbformat_minor": 4
}
